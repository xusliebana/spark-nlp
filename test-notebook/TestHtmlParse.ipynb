{
 "cells": [
  {
   "cell_type": "code",
   "execution_count": 1,
   "metadata": {},
   "outputs": [],
   "source": [
    "from sparknlp.annotator import *\n",
    "from sparknlp.base import *"
   ]
  },
  {
   "cell_type": "code",
   "execution_count": 2,
   "metadata": {},
   "outputs": [
    {
     "name": "stdout",
     "output_type": "stream",
     "text": [
      "sparknlp.jar  TestHtmlParse.ipynb\r\n"
     ]
    }
   ],
   "source": [
    "!ls\n"
   ]
  },
  {
   "cell_type": "code",
   "execution_count": 3,
   "metadata": {},
   "outputs": [],
   "source": [
    "from pyspark.sql import SparkSession\n",
    "\n",
    "import os\n",
    "spark = SparkSession.builder \\\n",
    "        .master(\"local[4]\") \\\n",
    "        .config(\"spark.jars\", 'sparknlp.jar') \\\n",
    "        .config(\"spark.driver.memory\", \"6500M\") \\\n",
    "        .getOrCreate()\n",
    "spark.sparkContext.setLogLevel(\"WARN\")"
   ]
  },
  {
   "cell_type": "code",
   "execution_count": 4,
   "metadata": {},
   "outputs": [],
   "source": [
    "data = spark.createDataFrame([\n",
    "            [1,\"\"\" <html>\n",
    "              <head>\n",
    "               <title>\n",
    "                The title is good.\n",
    "                Another sentence to detect.\n",
    "               </title>\n",
    "              </head>\n",
    "              <body>\n",
    "               <p class=\"title\">\n",
    "                <b>\n",
    "                 The Dormouse's story title.\n",
    "                </b>\n",
    "               </p>\n",
    "               <p class=\"story\">\n",
    "                Once upon a time there were three little sisters; and their names were\n",
    "                <a class=\"sister\" href=\"http://example.com/elsie\" id=\"link1\">\n",
    "                 Elsie\n",
    "                </a>\n",
    "                ,\n",
    "                <a class=\"sister\" href=\"http://example.com/lacie\" id=\"link2\">\n",
    "                 Lacie\n",
    "                </a>\n",
    "                and\n",
    "                <a class=\"sister\" href=\"http://example.com/tillie\" id=\"link3\">\n",
    "                 Tillie\n",
    "                </a>\n",
    "                ; and they lived at the bottom of a well.\n",
    "               </p>\n",
    "               <p class=\"story\">\n",
    "                 OtherStory\n",
    "               </p>\n",
    "              </body>\n",
    "             </html>\"\"\"]\n",
    "        ]).toDF(\"id\", \"text\").cache()\n",
    "\n"
   ]
  },
  {
   "cell_type": "code",
   "execution_count": 5,
   "metadata": {},
   "outputs": [
    {
     "name": "stdout",
     "output_type": "stream",
     "text": [
      "+------------------------------------------------+----------------------------------------------+\n",
      "|token_views                                     |sentence_views                                |\n",
      "+------------------------------------------------+----------------------------------------------+\n",
      "|The@title@is@good@.@Another@sentence@to@detect@.|The title is good.@Another sentence to detect.|\n",
      "+------------------------------------------------+----------------------------------------------+\n",
      "\n"
     ]
    }
   ],
   "source": [
    "document_assembler = DocumentAssembler() \\\n",
    "            .setInputCol(\"text\") \\\n",
    "            .setOutputCol(\"document\")\n",
    "\n",
    "html_parser = HtmlParser() \\\n",
    "        .setInputCols('document') \\\n",
    "        .setOutputCol('html') \\\n",
    "        .setTag('html.head.title')\n",
    "\n",
    "sentence_detector = SentenceDetector() \\\n",
    "            .setInputCols([\"html\"]) \\\n",
    "            .setOutputCol(\"sentence\") \\\n",
    "            .setCustomBounds([\"%%\"]) \\\n",
    "            .setSplitLength(235) \\\n",
    "            .setMinLength(4) \\\n",
    "            .setMaxLength(50)\n",
    "\n",
    "tokenizer = Tokenizer() \\\n",
    "            .setInputCols([\"sentence\"]) \\\n",
    "            .setOutputCol(\"token\")\n",
    "            \n",
    "\n",
    "finisher = Finisher() \\\n",
    "        .setInputCols([\"token\",\"sentence\"]) \\\n",
    "        .setOutputCols([\"token_views\",\"sentence_views\"]) \\\n",
    "        .setOutputAsArray(False) \\\n",
    "        .setAnnotationSplitSymbol('@') \\\n",
    "        .setValueSplitSymbol('#')\n",
    "\n",
    "pipeline = Pipeline(stages=[document_assembler, html_parser,sentence_detector, tokenizer, finisher])\n",
    "pipeline.fit(data).transform(data).select('token_views',\"sentence_views\").show(1,False)\n",
    "\n"
   ]
  }
 ],
 "metadata": {
  "kernelspec": {
   "display_name": "Python 3",
   "language": "python",
   "name": "python3"
  },
  "language_info": {
   "codemirror_mode": {
    "name": "ipython",
    "version": 3
   },
   "file_extension": ".py",
   "mimetype": "text/x-python",
   "name": "python",
   "nbconvert_exporter": "python",
   "pygments_lexer": "ipython3",
   "version": "3.7.9"
  }
 },
 "nbformat": 4,
 "nbformat_minor": 4
}
